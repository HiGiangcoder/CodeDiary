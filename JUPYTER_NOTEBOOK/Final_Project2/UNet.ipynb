{
 "cells": [
  {
   "cell_type": "code",
   "execution_count": 1,
   "metadata": {},
   "outputs": [
    {
     "name": "stdout",
     "output_type": "stream",
     "text": [
      "Dataset URL: https://www.kaggle.com/datasets/abdallahwagih/kvasir-dataset-for-classification-and-segmentation\n",
      "Downloading kvasir-dataset-for-classification-and-segmentation.zip to ./kvasir-dataset-for-classification-and-segmentation\n"
     ]
    },
    {
     "name": "stderr",
     "output_type": "stream",
     "text": [
      "100%|██████████| 1.20G/1.20G [06:57<00:00, 3.07MB/s]\n"
     ]
    },
    {
     "name": "stdout",
     "output_type": "stream",
     "text": [
      "\n"
     ]
    }
   ],
   "source": [
    "import opendatasets as od\n",
    "\n",
    "data_path = 'https://www.kaggle.com/datasets/abdallahwagih/kvasir-dataset-for-classification-and-segmentation'\n",
    "od.download(data_path)"
   ]
  },
  {
   "cell_type": "markdown",
   "metadata": {},
   "source": [
    "# 1. Prepare data"
   ]
  },
  {
   "cell_type": "code",
   "execution_count": 2,
   "metadata": {},
   "outputs": [],
   "source": [
    "# Read image and mask paths\n",
    "image_paths = []\n",
    "mask_paths = []\n",
    "import os\n",
    "\n",
    "images_root = './kvasir-dataset-for-classification-and-segmentation/kvasir-seg/Kvasir-SEG/images'\n",
    "masks_root = './kvasir-dataset-for-classification-and-segmentation/kvasir-seg/Kvasir-SEG/masks'\n",
    "\n",
    "for image, mask in zip(os.listdir(images_root), os.listdir(masks_root)):\n",
    "    image_paths.append(os.path.join(images_root, image))\n",
    "    mask_paths.append(os.path.join(masks_root, mask))"
   ]
  },
  {
   "cell_type": "markdown",
   "metadata": {},
   "source": [
    "### Try converting images and masks to their true channel and check number of channels of images and masks"
   ]
  },
  {
   "cell_type": "code",
   "execution_count": 3,
   "metadata": {},
   "outputs": [
    {
     "name": "stdout",
     "output_type": "stream",
     "text": [
      "Image:  ('R', 'G', 'B')\n",
      "Mask:  ('L',)\n"
     ]
    }
   ],
   "source": [
    "from PIL import Image\n",
    "\n",
    "print('Image: ', Image.open(image_paths[0]).convert('RGB').getbands())\n",
    "print('Mask: ', Image.open(mask_paths[0]).convert('L').getbands())"
   ]
  },
  {
   "cell_type": "markdown",
   "metadata": {},
   "source": [
    "### Check the shape of images and masks"
   ]
  },
  {
   "cell_type": "code",
   "execution_count": 4,
   "metadata": {},
   "outputs": [
    {
     "name": "stdout",
     "output_type": "stream",
     "text": [
      "Images:  (530, 571, 3)\n",
      "Masks:  (530, 571)\n"
     ]
    }
   ],
   "source": [
    "import numpy as np\n",
    "\n",
    "print('Images: ', np.array(Image.open(image_paths[0]).convert('RGB')).shape)\n",
    "print('Masks: ', np.array(Image.open(mask_paths[0]).convert('L')).shape)"
   ]
  },
  {
   "cell_type": "markdown",
   "metadata": {},
   "source": [
    "### Show examples of data\n",
    "#### Bài tập 1: Plot ảnh từ dataset ra, đối tượng cần load là 1 cặp mẫu dữ liệu, mỗi cặp bao gồm 1 image và 1 mask"
   ]
  },
  {
   "cell_type": "code",
   "execution_count": null,
   "metadata": {},
   "outputs": [
    {
     "ename": "TypeError",
     "evalue": "list indices must be integers or slices, not float",
     "output_type": "error",
     "traceback": [
      "\u001b[0;31m---------------------------------------------------------------------------\u001b[0m",
      "\u001b[0;31mTypeError\u001b[0m                                 Traceback (most recent call last)",
      "Cell \u001b[0;32mIn[31], line 19\u001b[0m\n\u001b[1;32m     16\u001b[0m             axes[num]\u001b[38;5;241m.\u001b[39maxis(\u001b[38;5;124m'\u001b[39m\u001b[38;5;124moff\u001b[39m\u001b[38;5;124m'\u001b[39m)\n\u001b[1;32m     17\u001b[0m     plt\u001b[38;5;241m.\u001b[39mshow()\n\u001b[0;32m---> 19\u001b[0m \u001b[43mVisualize_Data\u001b[49m\u001b[43m(\u001b[49m\u001b[43m)\u001b[49m\n",
      "Cell \u001b[0;32mIn[31], line 9\u001b[0m, in \u001b[0;36mVisualize_Data\u001b[0;34m()\u001b[0m\n\u001b[1;32m      7\u001b[0m num \u001b[38;5;241m=\u001b[39m i \u001b[38;5;241m/\u001b[39m \u001b[38;5;241m2\u001b[39m \u001b[38;5;241m*\u001b[39m \u001b[38;5;241m10\u001b[39m \u001b[38;5;241m+\u001b[39m j\n\u001b[1;32m      8\u001b[0m nummark \u001b[38;5;241m=\u001b[39m (i \u001b[38;5;241m/\u001b[39m \u001b[38;5;241m2\u001b[39m \u001b[38;5;241m+\u001b[39m \u001b[38;5;241m1\u001b[39m) \u001b[38;5;241m*\u001b[39m \u001b[38;5;241m10\u001b[39m \u001b[38;5;241m+\u001b[39m j\n\u001b[0;32m----> 9\u001b[0m image \u001b[38;5;241m=\u001b[39m Image\u001b[38;5;241m.\u001b[39mopen(\u001b[43mimage_paths\u001b[49m\u001b[43m[\u001b[49m\u001b[43mnum\u001b[49m\u001b[43m]\u001b[49m)\n\u001b[1;32m     10\u001b[0m mask \u001b[38;5;241m=\u001b[39m Image\u001b[38;5;241m.\u001b[39mopen(mask_paths[num])\n\u001b[1;32m     12\u001b[0m axes[num]\u001b[38;5;241m.\u001b[39mimshow(image)\n",
      "\u001b[0;31mTypeError\u001b[0m: list indices must be integers or slices, not float"
     ]
    },
    {
     "data": {
      "image/png": "[encoded data removed]",
      "text/plain": [
       "<Figure size 800x1000 with 60 Axes>"
      ]
     },
     "metadata": {},
     "output_type": "display_data"
    }
   ],
   "source": [
    "import matplotlib.pyplot as plt\n",
    "def Visualize_Data():\n",
    "    fig, axes = plt.subplots(10, 14, figsize=(24, 20))\n",
    "    \n",
    "    for i in range(0, 10, 2):\n",
    "        for j in range(0, 14):\n",
    "            num = i // 2 * 10 + j\n",
    "            image = Image.open(image_paths[num])\n",
    "            mask = Image.open(mask_paths[num])\n",
    "            \n",
    "            axes[i, j].imshow(image)\n",
    "            axes[i, j].axis('off')\n",
    "            \n",
    "            axes[i + 1, j].imshow(mask)\n",
    "            axes[i + 1, j].axis('off')\n",
    "    plt.show()\n",
    "\n",
    "Visualize_Data()\n",
    "            "
   ]
  },
  {
   "cell_type": "markdown",
   "metadata": {},
   "source": [
    "### Split data into three sets"
   ]
  },
  {
   "cell_type": "code",
   "execution_count": 6,
   "metadata": {},
   "outputs": [
    {
     "name": "stdout",
     "output_type": "stream",
     "text": [
      "Train:  600\n",
      "Val:  200\n",
      "Test:  200\n"
     ]
    }
   ],
   "source": [
    "from sklearn.model_selection import train_test_split\n",
    "# seed = 0\n",
    "val_size = 0.2\n",
    "test_size = 0.25\n",
    "is_shuffle = True\n",
    "\n",
    "X_train, X_val, y_train, y_val = train_test_split(\n",
    "    image_paths,\n",
    "    mask_paths,\n",
    "    test_size=val_size,\n",
    "    random_state=42,\n",
    "    shuffle=is_shuffle\n",
    ")\n",
    "\n",
    "X_train, X_test, y_train, y_test = train_test_split(\n",
    "    X_train,\n",
    "    y_train,\n",
    "    test_size=test_size,\n",
    "    random_state=42,\n",
    "    shuffle=is_shuffle\n",
    ")\n",
    "\n",
    "print('Train: ', len(X_train))\n",
    "print('Val: ', len(X_val))\n",
    "print('Test: ', len(X_test))"
   ]
  },
  {
   "cell_type": "markdown",
   "metadata": {},
   "source": [
    "### Create Kvasir Dataset"
   ]
  },
  {
   "cell_type": "code",
   "execution_count": 7,
   "metadata": {},
   "outputs": [],
   "source": [
    "from torch.utils.data import Dataset, DataLoader\n",
    "\n",
    "class KvasirDataset(Dataset):\n",
    "    def __init__(self, image_paths, mask_paths, transform=None):\n",
    "        self.image_paths = image_paths\n",
    "        self.mask_paths = mask_paths\n",
    "        self.transform = transform\n",
    "        \n",
    "    def __len__(self):\n",
    "        return len(self.image_paths)\n",
    "    \n",
    "    # Load image and mask\n",
    "    def __getitem__(self, idx):\n",
    "        image_path = self.image_paths[idx]\n",
    "        mask_path = self.mask_paths[idx]\n",
    "        image = Image.open(image_path).convert('RGB')\n",
    "        mask = Image.open(mask_path).convert('L')\n",
    "        \n",
    "        if self.transform:\n",
    "            image, mask = self.transform(image, mask)\n",
    "            \n",
    "        return image, mask"
   ]
  },
  {
   "cell_type": "markdown",
   "metadata": {},
   "source": [
    "### Calculate mean and std of the dataset"
   ]
  },
  {
   "cell_type": "code",
   "execution_count": 8,
   "metadata": {},
   "outputs": [
    {
     "ename": "KeyboardInterrupt",
     "evalue": "",
     "output_type": "error",
     "traceback": [
      "\u001b[0;31m---------------------------------------------------------------------------\u001b[0m",
      "\u001b[0;31mKeyboardInterrupt\u001b[0m                         Traceback (most recent call last)",
      "Cell \u001b[0;32mIn[8], line 4\u001b[0m\n\u001b[1;32m      2\u001b[0m full_data \u001b[38;5;241m=\u001b[39m KvasirDataset(image_paths, mask_paths)\n\u001b[1;32m      3\u001b[0m img_data \u001b[38;5;241m=\u001b[39m []\n\u001b[0;32m----> 4\u001b[0m \u001b[38;5;28;43;01mfor\u001b[39;49;00m\u001b[43m \u001b[49m\u001b[43mimg\u001b[49m\u001b[43m,\u001b[49m\u001b[43m \u001b[49m\u001b[43m_\u001b[49m\u001b[43m \u001b[49m\u001b[38;5;129;43;01min\u001b[39;49;00m\u001b[43m \u001b[49m\u001b[43mfull_data\u001b[49m\u001b[43m:\u001b[49m\n\u001b[1;32m      5\u001b[0m \u001b[43m    \u001b[49m\u001b[43mimg_array\u001b[49m\u001b[43m \u001b[49m\u001b[38;5;241;43m=\u001b[39;49m\u001b[43m \u001b[49m\u001b[43mnp\u001b[49m\u001b[38;5;241;43m.\u001b[39;49m\u001b[43marray\u001b[49m\u001b[43m(\u001b[49m\u001b[43mimg\u001b[49m\u001b[38;5;241;43m.\u001b[39;49m\u001b[43mresize\u001b[49m\u001b[43m(\u001b[49m\u001b[43m(\u001b[49m\u001b[38;5;241;43m224\u001b[39;49m\u001b[43m,\u001b[49m\u001b[43m \u001b[49m\u001b[38;5;241;43m224\u001b[39;49m\u001b[43m)\u001b[49m\u001b[43m)\u001b[49m\u001b[43m)\u001b[49m\u001b[43m \u001b[49m\u001b[38;5;241;43m/\u001b[39;49m\u001b[43m \u001b[49m\u001b[38;5;241;43m255.0\u001b[39;49m\n\u001b[1;32m      6\u001b[0m \u001b[43m    \u001b[49m\u001b[43mimg_data\u001b[49m\u001b[38;5;241;43m.\u001b[39;49m\u001b[43mappend\u001b[49m\u001b[43m(\u001b[49m\u001b[43mimg_array\u001b[49m\u001b[43m)\u001b[49m\n",
      "Cell \u001b[0;32mIn[7], line 17\u001b[0m, in \u001b[0;36mKvasirDataset.__getitem__\u001b[0;34m(self, idx)\u001b[0m\n\u001b[1;32m     15\u001b[0m mask_path \u001b[38;5;241m=\u001b[39m \u001b[38;5;28mself\u001b[39m\u001b[38;5;241m.\u001b[39mmask_paths[idx]\n\u001b[1;32m     16\u001b[0m image \u001b[38;5;241m=\u001b[39m Image\u001b[38;5;241m.\u001b[39mopen(image_path)\u001b[38;5;241m.\u001b[39mconvert(\u001b[38;5;124m'\u001b[39m\u001b[38;5;124mRGB\u001b[39m\u001b[38;5;124m'\u001b[39m)\n\u001b[0;32m---> 17\u001b[0m mask \u001b[38;5;241m=\u001b[39m \u001b[43mImage\u001b[49m\u001b[38;5;241;43m.\u001b[39;49m\u001b[43mopen\u001b[49m\u001b[43m(\u001b[49m\u001b[43mmask_path\u001b[49m\u001b[43m)\u001b[49m\u001b[38;5;241;43m.\u001b[39;49m\u001b[43mconvert\u001b[49m\u001b[43m(\u001b[49m\u001b[38;5;124;43m'\u001b[39;49m\u001b[38;5;124;43mL\u001b[39;49m\u001b[38;5;124;43m'\u001b[39;49m\u001b[43m)\u001b[49m\n\u001b[1;32m     19\u001b[0m \u001b[38;5;28;01mif\u001b[39;00m \u001b[38;5;28mself\u001b[39m\u001b[38;5;241m.\u001b[39mtransform:\n\u001b[1;32m     20\u001b[0m     image, mask \u001b[38;5;241m=\u001b[39m \u001b[38;5;28mself\u001b[39m\u001b[38;5;241m.\u001b[39mtransform(image, mask)\n",
      "File \u001b[0;32m~/miniconda3/envs/py3-torch/lib/python3.12/site-packages/PIL/Image.py:1143\u001b[0m, in \u001b[0;36mImage.convert\u001b[0;34m(self, mode, matrix, dither, palette, colors)\u001b[0m\n\u001b[1;32m   1140\u001b[0m     dither \u001b[38;5;241m=\u001b[39m Dither\u001b[38;5;241m.\u001b[39mFLOYDSTEINBERG\n\u001b[1;32m   1142\u001b[0m \u001b[38;5;28;01mtry\u001b[39;00m:\n\u001b[0;32m-> 1143\u001b[0m     im \u001b[38;5;241m=\u001b[39m \u001b[38;5;28;43mself\u001b[39;49m\u001b[38;5;241;43m.\u001b[39;49m\u001b[43mim\u001b[49m\u001b[38;5;241;43m.\u001b[39;49m\u001b[43mconvert\u001b[49m\u001b[43m(\u001b[49m\u001b[43mmode\u001b[49m\u001b[43m,\u001b[49m\u001b[43m \u001b[49m\u001b[43mdither\u001b[49m\u001b[43m)\u001b[49m\n\u001b[1;32m   1144\u001b[0m \u001b[38;5;28;01mexcept\u001b[39;00m \u001b[38;5;167;01mValueError\u001b[39;00m:\n\u001b[1;32m   1145\u001b[0m     \u001b[38;5;28;01mtry\u001b[39;00m:\n\u001b[1;32m   1146\u001b[0m         \u001b[38;5;66;03m# normalize source image and try again\u001b[39;00m\n",
      "\u001b[0;31mKeyboardInterrupt\u001b[0m: "
     ]
    }
   ],
   "source": [
    "# Create non transform dataset\n",
    "full_data = KvasirDataset(image_paths, mask_paths)\n",
    "img_data = []\n",
    "for img, _ in full_data:\n",
    "    img_array = np.array(img.resize((224, 224))) / 255.0\n",
    "    img_data.append(img_array)\n",
    "    \n",
    "img_data = np.array(img_data)\n",
    "\n",
    "# Calculate mean and std\n",
    "mean = np.mean(img_data, axis=(0, 1, 2))\n",
    "std = np.std(img_data, axis=(0, 1, 2))\n",
    "\n",
    "print('Mean: ', mean)\n",
    "print('Std: ', std)"
   ]
  },
  {
   "cell_type": "markdown",
   "metadata": {},
   "source": [
    "### Data transform and augmentation\n",
    "#### Bài tập 2: Hoàn thiện các phép biến đổi dữ liệu\n",
    "Trong bài tập này, bạn sẽ hoàn thiện các phép biến đổi (transforms) cho ảnh và mask. Các phép biến đổi này sẽ giúp chuẩn bị dữ liệu trước khi đưa vào mô hình học sâu. Gợi ý: dùng các hàm trong \"transforms\""
   ]
  },
  {
   "cell_type": "code",
   "execution_count": null,
   "metadata": {},
   "outputs": [],
   "source": [
    "import torchvision.transforms as transforms\n",
    "import torch\n",
    "\n",
    "# Define a class transform for image and mask\n",
    "class CustomTransform:\n",
    "    def __init__(self, image_transform, mask_transform):\n",
    "        self.image_transform = image_transform\n",
    "        self.mask_transform = mask_transform\n",
    "\n",
    "    def __call__(self, image, mask):\n",
    "        seed = torch.random.initial_seed()\n",
    "        torch.manual_seed(seed)\n",
    "        image = self.image_transform(image)\n",
    "\n",
    "        torch.manual_seed(seed)\n",
    "        mask = self.mask_transform(mask)\n",
    "\n",
    "        return image, mask\n",
    "\n",
    "# Train Image transforms\n",
    "train_image_transforms = transforms.Compose([\n",
    "    transforms.Resize((224, 224)),\n",
    "    transforms.ToTensor(),\n",
    "    # TODO: Chuẩn hóa ảnh với giá trị mean và std, các giá trị mean và std dùng lại mean và std đã tính ở trên\n",
    "])\n",
    "\n",
    "# Train Mask Transforms\n",
    "train_mask_transforms = transforms.Compose([\n",
    "    transforms.Resize((224, 224)),\n",
    "    transforms.ToTensor(),\n",
    "    # TODO: Chuyển mask thành nhị phân, gồm các giá trị 0 và 1\n",
    "])\n",
    "\n",
    "# Val Image transforms\n",
    "val_image_transforms = transforms.Compose([\n",
    "    transforms.Resize((224, 224)),\n",
    "    transforms.ToTensor(),\n",
    "    # TODO: Chuẩn hóa ảnh với giá trị mean và std, các giá trị mean và std dùng lại mean và std đã tính ở trên\n",
    "])\n",
    "\n",
    "# Val Mask transforms\n",
    "val_mask_transforms = transforms.Compose([\n",
    "    transforms.Resize((224, 224)),\n",
    "    transforms.ToTensor(),\n",
    "    # TODO: Chuyển mask thành nhị phân, gồm các giá trị 0 và 1\n",
    "])\n",
    "\n",
    "# Transforms dictionary\n",
    "data_transforms = {\n",
    "    'train': CustomTransform(train_image_transforms, train_mask_transforms),\n",
    "    'val': CustomTransform(val_image_transforms, val_mask_transforms),\n",
    "}\n"
   ]
  },
  {
   "cell_type": "markdown",
   "metadata": {},
   "source": [
    "### Create dataset"
   ]
  },
  {
   "cell_type": "code",
   "execution_count": null,
   "metadata": {},
   "outputs": [],
   "source": [
    "# Create datasets\n",
    "train_dataset = KvasirDataset(\n",
    "    X_train,\n",
    "    y_train,\n",
    "    transform=data_transforms['train']\n",
    ")\n",
    "\n",
    "val_dataset = KvasirDataset(\n",
    "    X_val,\n",
    "    y_val,\n",
    "    transform=data_transforms['val']\n",
    ")\n",
    "\n",
    "test_dataset = KvasirDataset(\n",
    "    X_test,\n",
    "    y_test,\n",
    "    transform=data_transforms['val']\n",
    ")"
   ]
  },
  {
   "cell_type": "markdown",
   "metadata": {},
   "source": [
    "### Make dataloader"
   ]
  },
  {
   "cell_type": "code",
   "execution_count": null,
   "metadata": {},
   "outputs": [],
   "source": [
    "# Create dataloaders\n",
    "train_batch_size = 8\n",
    "test_batch_size = 4\n",
    "\n",
    "train_loader = DataLoader(\n",
    "    train_dataset,\n",
    "    batch_size=train_batch_size,\n",
    "    shuffle=True\n",
    ")\n",
    "\n",
    "val_loader = DataLoader(\n",
    "    val_dataset,\n",
    "    batch_size=test_batch_size,\n",
    "    shuffle=False\n",
    ")\n",
    "\n",
    "test_loader = DataLoader(\n",
    "    test_dataset,\n",
    "    batch_size=test_batch_size,\n",
    "    shuffle=False\n",
    ")"
   ]
  },
  {
   "cell_type": "markdown",
   "metadata": {},
   "source": [
    "### Show batch"
   ]
  },
  {
   "cell_type": "code",
   "execution_count": null,
   "metadata": {},
   "outputs": [],
   "source": [
    "import torchvision\n",
    "\n",
    "train_features, train_labels = next(iter(train_loader))\n",
    "\n",
    "# Use torchvision to display a grid of images\n",
    "def show_batch(images, masks):\n",
    "    grid_images = torchvision.utils.make_grid(images, nrow=4, normalize=True)\n",
    "    grid_masks = torchvision.utils.make_grid(masks, nrow=4, normalize=True)\n",
    "\n",
    "    plt.figure(figsize=(20, 20))\n",
    "    plt.imshow(np.transpose(grid_images, (1, 2, 0)), )\n",
    "    plt.show()\n",
    "    \n",
    "    plt.figure(figsize=(20, 20))\n",
    "    plt.imshow(np.transpose(grid_masks, (1, 2, 0)), )\n",
    "    plt.show()"
   ]
  },
  {
   "cell_type": "code",
   "execution_count": null,
   "metadata": {},
   "outputs": [],
   "source": [
    "# Check the shape of the images and masks\n",
    "train_features[0].shape"
   ]
  },
  {
   "cell_type": "code",
   "execution_count": null,
   "metadata": {},
   "outputs": [],
   "source": [
    "# Display a batch of images and masks\n",
    "show_batch(train_features, train_labels)"
   ]
  },
  {
   "cell_type": "code",
   "execution_count": null,
   "metadata": {},
   "outputs": [],
   "source": [
    "# Check device availability\n",
    "import torch\n",
    "device = torch.device('cuda' if torch.cuda.is_available() else 'cpu')\n",
    "print(device)"
   ]
  },
  {
   "cell_type": "markdown",
   "metadata": {},
   "source": [
    "# 2. Model"
   ]
  },
  {
   "cell_type": "code",
   "execution_count": null,
   "metadata": {},
   "outputs": [],
   "source": [
    "import torch\n",
    "import torch.nn as nn\n",
    "import torch.nn.functional as F\n",
    "import torchvision\n",
    "from torchvision import models\n",
    "import torch.optim as optim\n",
    "from time import time\n",
    "\n",
    "from matplotlib import rcParams\n",
    "rcParams['figure.figsize'] = (15,4)"
   ]
  },
  {
   "cell_type": "markdown",
   "metadata": {},
   "source": [
    "#### Bài tập 3: Hoàn thành các đoạn code sau theo gợi ý"
   ]
  },
  {
   "cell_type": "code",
   "execution_count": null,
   "metadata": {},
   "outputs": [],
   "source": [
    "# Define the convolutional block\n",
    "def conv3x3(in_, out):\n",
    "    return nn.Conv2d(in_, out, 3, padding=1)\n",
    "\n",
    "# Define the ConvRelu\n",
    "class ConvRelu(nn.Module):\n",
    "    def __init__(self, in_: int, out: int):\n",
    "        super().__init__()\n",
    "        # TODO: Tạo một lớp convolution sử dụng hàm conv3x3 ở trên\n",
    "        # TODO: Tạo một lớp ReLU activation với inplace=True\n",
    "\n",
    "    def forward(self, x):\n",
    "        # TODO: Áp dụng lớp convolution lên input x\n",
    "        # TODO: Áp dụng activation function lên output từ convolution\n",
    "        return x"
   ]
  },
  {
   "cell_type": "code",
   "execution_count": null,
   "metadata": {},
   "outputs": [],
   "source": [
    "class DecoderBlock(nn.Module):\n",
    "    def __init__(self, in_channels, middle_channels, out_channels, is_deconv=True):\n",
    "        super(DecoderBlock, self).__init__()\n",
    "        # TODO: Lưu lại giá trị in_channels\n",
    "\n",
    "        # TODO: Nếu is_deconv là True, sử dụng ConvTranspose2d để tăng kích thước\n",
    "        if is_deconv:\n",
    "            self.block = nn.Sequential(\n",
    "                # TODO: Thêm một lớp ConvRelu với in_channels và middle_channels\n",
    "                # TODO: Thêm một lớp ConvTranspose2d với middle_channels và out_channels\n",
    "                # TODO: Thêm một lớp ReLU activation với inplace=True\n",
    "            )\n",
    "        # TODO: Nếu is_deconv là False, sử dụng Upsample để tăng kích thước\n",
    "        else:\n",
    "            self.block = nn.Sequential(\n",
    "                # TODO: Thêm một lớp Upsample với scale_factor=2 và mode='bilinear'\n",
    "                # TODO: Thêm một lớp ConvRelu với in_channels và middle_channels\n",
    "                # TODO: Thêm một lớp ConvRelu với middle_channels và out_channels\n",
    "            )\n",
    "\n",
    "    def forward(self, x):\n",
    "        return self.block(x)"
   ]
  },
  {
   "cell_type": "code",
   "execution_count": null,
   "metadata": {},
   "outputs": [],
   "source": [
    "\n",
    "# TODO: Định nghĩa lớp UNet11 kế thừa từ nn.Module\n",
    "class UNet11(nn.Module):\n",
    "    def __init__(self, num_classes=1, num_filters=32, pretrained=False, is_deconv=False):\n",
    "        \"\"\"\n",
    "        :param num_classes: số lượng lớp đầu ra\n",
    "        :param num_filters: số lượng bộ lọc sử dụng trong mạng\n",
    "        :param pretrained: sử dụng mô hình VGG11 có trọng số pre-trained hay không\n",
    "        \"\"\"\n",
    "        super().__init__()\n",
    "        self.pool = nn.MaxPool2d(2, 2)\n",
    "\n",
    "        # TODO: Lưu lại số lượng lớp đầu ra\n",
    "\n",
    "        # TODO: Kiểm tra nếu pretrained=True, sử dụng mô hình VGG11 với trọng số có sẵn\n",
    "        if pretrained:\n",
    "            self.encoder = models.vgg11(weights=models.vgg.VGG11_Weights.DEFAULT).features\n",
    "        else:\n",
    "            self.encoder = models.vgg11().features\n",
    "\n",
    "        # TODO: Khởi tạo hàm kích hoạt ReLU\n",
    "        # TODO: Xây dựng các khối convolutional từ các lớp trong VGG11\n",
    "        self.conv1 = nn.Sequential(\n",
    "            self.encoder[0],\n",
    "            # TODO: Thêm hàm kích hoạt ReLU\n",
    "        )\n",
    "\n",
    "        self.conv2 = nn.Sequential(\n",
    "            self.encoder[3],\n",
    "            # TODO: Thêm hàm kích hoạt ReLU\n",
    "        )\n",
    "\n",
    "        # TODO: Tiếp tục xây dựng các khối convolutional cho conv3, conv4, conv5\n",
    "        self.conv3 = nn.Sequential(\n",
    "            self.encoder[6],\n",
    "            # TODO: Thêm hàm kích hoạt ReLU\n",
    "            self.encoder[8],\n",
    "            # TODO: Thêm hàm kích hoạt ReLU\n",
    "        )\n",
    "\n",
    "        # TODO: Xây dựng khối center và decoder tương ứng\n",
    "        self.center = DecoderBlock(256 + num_filters * 8, num_filters * 8 * 2, num_filters * 8, is_deconv=is_deconv)\n",
    "        \n",
    "        # TODO: Xây dựng các lớp decoder dec5, dec4, dec3, dec2, dec1 theo kiến trúc U-Net\n",
    "\n",
    "        # TODO: Xây dựng lớp final convolution\n",
    "        self.final = nn.Conv2d(num_filters, num_classes, kernel_size=1)\n",
    "\n",
    "    def forward(self, x):\n",
    "        # TODO: Thực hiện forward pass theo thứ tự các tầng conv1 -> conv5, pool giữa các tầng\n",
    "        conv1 = self.conv1(x)\n",
    "        conv2 = self.conv2(self.pool(conv1))\n",
    "        conv3 = self.conv3(self.pool(conv2))\n",
    "        # TODO: Tiếp tục cho đến conv5\n",
    "\n",
    "        # TODO: Truyền qua tầng center\n",
    "        center = self.center(self.pool(conv5))\n",
    "\n",
    "        # TODO: Ghép nối (concat) các đặc trưng từ encoder với decoder theo từng tầng\n",
    "        dec5 = self.dec5(torch.cat([center, conv5], 1))\n",
    "        # TODO: Tiếp tục với dec4, dec3, dec2, dec1\n",
    "\n",
    "        # TODO: Kiểm tra nếu num_classes > 1, sử dụng log_softmax, ngược lại sử dụng conv đầu ra\n",
    "        if self.num_classes > 1:\n",
    "            x_out = F.log_softmax(self.final(dec1), dim=1)\n",
    "        else:\n",
    "            x_out = self.final(dec1)\n",
    "\n",
    "        return x_out"
   ]
  },
  {
   "cell_type": "code",
   "execution_count": null,
   "metadata": {},
   "outputs": [],
   "source": [
    "# Create the model\n",
    "from torchsummary import summary\n",
    "\n",
    "model = UNet11(pretrained=True)\n",
    "model.to(device)\n",
    "summary(model, (3, 224, 224))"
   ]
  },
  {
   "cell_type": "markdown",
   "metadata": {},
   "source": [
    "## IOU metric\n",
    "For quality assessment, we will use the IoU (intersection over union) metric defined as:\n",
    "\n",
    "$I o U=\\frac{\\text {target } \\cap \\text { prediction }}{\\text {target } \\cup{prediction }}$\n",
    "\n",
    "### Examples:\n",
    "![alt text](https://www.jeremyjordan.me/content/images/2018/05/target_prediction.png)\n",
    "\n",
    "\n",
    "#### Intersection and union:\n",
    "\n",
    "![alt text](https://www.jeremyjordan.me/content/images/2018/05/intersection_union.png)\n",
    "\n",
    "#### Bài tập 4: Hoàn thành hàm IOU bên dưới"
   ]
  },
  {
   "cell_type": "code",
   "execution_count": null,
   "metadata": {},
   "outputs": [],
   "source": [
    "def iou_pytorch(outputs, labels):\n",
    "    outputs = outputs.squeeze().byte()  # BATCH x 1 x H x W => BATCH x H x W\n",
    "    labels = labels.squeeze().byte()\n",
    "\n",
    "    SMOOTH = 1e-8\n",
    "\n",
    "    # TODO: Tính toán phần giao nhau giữa outputs và labels\n",
    "    # intersection = ...\n",
    "\n",
    "    # TODO: Tính toán phần hợp giữa outputs và labels\n",
    "    # union = ...\n",
    "\n",
    "    # TODO: Tính toán IoU theo công thức iou theo công thức (intersection + SMOOTH) / (union + SMOOTH)\n",
    "    # iou = ...\n",
    "    return iou\n"
   ]
  },
  {
   "cell_type": "markdown",
   "metadata": {},
   "source": [
    "## Loss function\n",
    "\n",
    "To start the training of our model, we will implement a loss function:\\\n",
    "**Binary cross-enthropy loss (BCE)**\n",
    "\n",
    "$$\\mathcal L_{BCE}(y, \\hat y) = -\\sum_i \\left[y_i\\log\\sigma(\\hat y_i) + (1-y_i)\\log(1-\\sigma(\\hat y_i))\\right].$$\n",
    "\n",
    "where $y$ is our target and $\\hat y$ is an output of the model. $\\sigma$ is a logistic function \n",
    "\n"
   ]
  },
  {
   "cell_type": "code",
   "execution_count": null,
   "metadata": {},
   "outputs": [],
   "source": [
    "import torch.nn as nn\n",
    "\n",
    "nn.BCEWithLogitsLoss()"
   ]
  },
  {
   "cell_type": "markdown",
   "metadata": {},
   "source": [
    "# 3. Train"
   ]
  },
  {
   "cell_type": "code",
   "execution_count": null,
   "metadata": {},
   "outputs": [],
   "source": [
    "# Function to denormalize image\n",
    "def de_normalize(img, mean=mean, std=std):\n",
    "    result = img * std + mean\n",
    "    result = np.clip(result, 0.0, 1.0)\n",
    "    \n",
    "    return result"
   ]
  },
  {
   "cell_type": "code",
   "execution_count": null,
   "metadata": {},
   "outputs": [],
   "source": [
    "# Function to display the result\n",
    "@torch.inference_mode()\n",
    "def display_prediction(model, image, target):\n",
    "    model.eval()\n",
    "    img = image[None,...].to(device)\n",
    "    output = model(img)\n",
    "    pred = (torch.sigmoid(output.squeeze()) > 0.5).to(int)\n",
    "\n",
    "\n",
    "    plt.figure(figsize=(10, 5))\n",
    "\n",
    "    plt.subplot(1,3,1)\n",
    "    plt.axis('off')\n",
    "    plt.title(\"Input Image\")\n",
    "    plt.imshow(de_normalize(image.numpy().transpose(1,2,0)))\n",
    "\n",
    "    plt.subplot(1,3,2)\n",
    "    plt.axis('off')\n",
    "    plt.title(\"Prediction\")\n",
    "    plt.imshow(pred.cpu().squeeze(), cmap='gray')\n",
    "\n",
    "    plt.subplot(1,3,3)\n",
    "    plt.axis('off')\n",
    "    plt.title(\"Ground Truth\")\n",
    "    plt.imshow(target.numpy().transpose(1, 2, 0), cmap='gray')\n",
    "\n",
    "    plt.show()"
   ]
  },
  {
   "cell_type": "code",
   "execution_count": null,
   "metadata": {},
   "outputs": [],
   "source": [
    "# Choose one set of image, mask in train set to display\n",
    "idx = np.random.randint(0, len(train_dataset) - 1)\n",
    "display_image = train_dataset[idx][0]\n",
    "display_mask = train_dataset[idx][1]"
   ]
  },
  {
   "cell_type": "code",
   "execution_count": null,
   "metadata": {},
   "outputs": [],
   "source": [
    "# Function to evaluate model\n",
    "def evaluate(model, val_loader, criterion):\n",
    "    model.eval()\n",
    "    val_loss = 0.0\n",
    "    val_IOU = 0\n",
    "    total = 0\n",
    "    with torch.no_grad():\n",
    "        for inputs, labels in val_loader:\n",
    "            inputs, labels = inputs.to(device), labels.to(device)\n",
    "\n",
    "            outputs = model(inputs)\n",
    "            loss = criterion(outputs, labels)\n",
    "            val_loss += loss.item()\n",
    "            \n",
    "            total += labels.size(0)\n",
    "            predict_labels = (torch.sigmoid(outputs.squeeze()) > 0.5).to(int)\n",
    "            val_IOU += iou_pytorch(predict_labels, labels).sum().item()\n",
    "\n",
    "    val_loss = val_loss / len(val_loader)\n",
    "    val_IOU = val_IOU / total\n",
    "    return val_loss, val_IOU"
   ]
  },
  {
   "cell_type": "code",
   "execution_count": null,
   "metadata": {},
   "outputs": [],
   "source": [
    "# Function to train model\n",
    "def train(model, train_loader, val_loader, criterion, optimizer, max_epoch=50, output_path='best_model.pt'):\n",
    "    # save progress\n",
    "    train_losses = []\n",
    "    val_losses = []\n",
    "    train_IOUs = []\n",
    "    val_IOUs = []\n",
    "    best_IOU = 0.0\n",
    "    \n",
    "    # Train\n",
    "    for epoch in range(max_epoch):\n",
    "        model.train()\n",
    "\n",
    "        running_loss = 0.0\n",
    "        running_IOU = 0\n",
    "        total = 0\n",
    "        \n",
    "        for i, (inputs, labels) in enumerate(train_loader, 0):\n",
    "            # Move inputs and labels to the device\n",
    "            inputs, labels = inputs.to(device), labels.to(device) \n",
    "\n",
    "            # Zero the parameter gradients\n",
    "            optimizer.zero_grad()\n",
    "\n",
    "            # Forward pass\n",
    "            outputs = model(inputs)\n",
    "            loss = criterion(outputs, labels)\n",
    "\n",
    "            running_loss += loss.item()\n",
    "            \n",
    "            # Calculate IOU\n",
    "            total += labels.size(0)\n",
    "            predict_labels = (torch.sigmoid(outputs.squeeze()) > 0.5).to(int)\n",
    "\n",
    "            running_IOU += iou_pytorch(predict_labels, labels).sum().item()\n",
    "\n",
    "            # Backward pass and optimization\n",
    "            loss.backward()\n",
    "            optimizer.step()\n",
    "            \n",
    "        epoch_loss = running_loss / len(train_loader)\n",
    "        epoch_IOU = running_IOU / total\n",
    "        val_loss, val_IOU = evaluate(model, val_loader, criterion)\n",
    "        # Save best model\n",
    "        if val_IOU > best_IOU:\n",
    "            best_IOU = val_IOU\n",
    "            model_scripted = torch.jit.script(model) # Export to TorchScript\n",
    "            model_scripted.save(output_path) # Save\n",
    "        \n",
    "        print(f\"Epoch [{epoch + 1}/{max_epoch}], Loss: {epoch_loss:.4f}, IOU: {epoch_IOU:.2f}, Val Loss: {val_loss:.4f}, Val IOU: {val_IOU:.2f}\")\n",
    "        display_prediction(model, display_image, display_mask)\n",
    "        \n",
    "\n",
    "        # Save for plot\n",
    "        train_losses.append(epoch_loss)\n",
    "        train_IOUs.append(epoch_IOU)\n",
    "        val_losses.append(val_loss)\n",
    "        val_IOUs.append(val_IOU)\n",
    "        \n",
    "    return [train_losses, val_losses, train_IOUs, val_IOUs]\n",
    "        "
   ]
  },
  {
   "cell_type": "code",
   "execution_count": null,
   "metadata": {},
   "outputs": [],
   "source": [
    "# Clear the GPU memory just in case\n",
    "import gc\n",
    "gc.collect()\n",
    "torch.cuda.empty_cache()\n",
    "torch.cuda.memory_allocated()"
   ]
  },
  {
   "cell_type": "code",
   "execution_count": null,
   "metadata": {},
   "outputs": [],
   "source": [
    "# Train the model\n",
    "max_epoch = 20\n",
    "lr = 4e-5\n",
    "weight_decay = 1e-4\n",
    "criterion = nn.BCEWithLogitsLoss()\n",
    "optimizer = torch.optim.AdamW(model.parameters(), lr=lr, weight_decay = weight_decay)\n",
    "history_bce = train(model, train_loader, val_loader, criterion, optimizer, max_epoch, 'best_unet11_model.pt')"
   ]
  }
 ],
 "metadata": {
  "kernelspec": {
   "display_name": "py3-torch",
   "language": "python",
   "name": "python3"
  },
  "language_info": {
   "codemirror_mode": {
    "name": "ipython",
    "version": 3
   },
   "file_extension": ".py",
   "mimetype": "text/x-python",
   "name": "python",
   "nbconvert_exporter": "python",
   "pygments_lexer": "ipython3",
   "version": "3.12.7"
  }
 },
 "nbformat": 4,
 "nbformat_minor": 2
}
